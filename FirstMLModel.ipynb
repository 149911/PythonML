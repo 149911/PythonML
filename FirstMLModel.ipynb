{
 "cells": [
  {
   "cell_type": "code",
   "execution_count": 2,
   "id": "e55ec677-151c-48f7-871b-9097cad627eb",
   "metadata": {},
   "outputs": [
    {
     "name": "stdout",
     "output_type": "stream",
     "text": [
      "MAE Out-Of-Sample: 0.8601398601398601\n",
      "MAE In-Sample: 0.0\n"
     ]
    }
   ],
   "source": [
    "import pandas as pd\n",
    "from sklearn.tree import DecisionTreeRegressor\n",
    "from sklearn.metrics import mean_absolute_error\n",
    "from sklearn.model_selection import train_test_split\n",
    "\n",
    "\n",
    "football_file_path = 'C:/Users/Simen/PythonML/Soccer csvs/england-premier-league-players-2018-to-2019-stats.csv'\n",
    "\n",
    "football_data = pd.read_csv(football_file_path)\n",
    "\n",
    "#dropna drops missing values (think of na as \"not available\")\n",
    "football_data = football_data.dropna(axis=0)\n",
    "\n",
    "#DataFrame = describe() all coloumns, Series = single coloumn\n",
    "#football_data.describe()\n",
    "football_data.columns\n",
    "\n",
    "y = football_data.goals_home\n",
    "\n",
    "football_data_features = ['minutes_played_overall', 'goals_involved_per_90_overall', 'cards_per_90_overall']\n",
    "x = football_data[football_data_features]\n",
    "\n",
    "#x.describe()\n",
    "#x.head()\n",
    "\n",
    "#Definere en model. Spesifiserer et tall for random_state for å få samme resultat hver gang vi kjører\n",
    "football_model = DecisionTreeRegressor(random_state=1)\n",
    "football_model.fit(x,y)\n",
    "predicted_goals_home = football_model.predict(x)\n",
    "\n",
    "mean_in_sample = mean_absolute_error(y, predicted_goals_home)\n",
    "\n",
    "train_x, val_x, train_y, val_y = train_test_split(x,y,random_state=0)\n",
    "\n",
    "#Fit model\n",
    "football_model.fit(train_x,train_y)\n",
    "\n",
    "#get predicted goals home on validation data\n",
    "# gjetninger på out-of-sample ble 0.8601, mens in-sample dataen sin mean absolute error var 0.0\n",
    "val_prediction = football_model.predict(val_x)\n",
    "print(\"MAE Out-Of-Sample: \" + str(mean_absolute_error(val_y, val_prediction)))\n",
    "print(\"MAE In-Sample: \" + str(mean_in_sample))\n"
   ]
  }
 ],
 "metadata": {
  "kernelspec": {
   "display_name": "Python 3",
   "language": "python",
   "name": "python3"
  },
  "language_info": {
   "codemirror_mode": {
    "name": "ipython",
    "version": 3
   },
   "file_extension": ".py",
   "mimetype": "text/x-python",
   "name": "python",
   "nbconvert_exporter": "python",
   "pygments_lexer": "ipython3",
   "version": "3.8.8"
  }
 },
 "nbformat": 4,
 "nbformat_minor": 5
}
